{
 "cells": [
  {
   "cell_type": "markdown",
   "metadata": {
    "colab_type": "text",
    "id": "KWTkuY3-jvte"
   },
   "source": [
    "# Lab 5 Applied Machine Learning\n",
    "Objective\n",
    "In this lab session you will\n",
    "\n",
    "* explore some programming concepts in Python, SciKitLearn, and Numpy to implement several statistical / Bayesian classifiers and compare them against each other and with one provided in SciKitLearn,\n",
    "* get acquainted with another version of the MNIST dataset, and \n",
    "* explore the effects of specific phenomena in the data on the classification results, also depending on the choice of discrete vs continuous implementation of the models.  \n",
    "\n",
    "## Background and Tools\n",
    "\n",
    "A rather intuitive and greedy (supervised) method to classification is the (k-)Nearest-Neighbour classification. This can be based on a brute force method, in which the entire (training) data set is searched for the (k) example(s) that is (are) closest to the sample one wants to classify. Similar to this is the Nearest-Centroid-Classifier (NCC) that minimises the distance between the sample to the centroids (means) of the clusters formed in feature space by the examples belonging to the different classes. In the supervised case, it is quite obvious how to find the centroid for a class - it is simply the \"point\" derived by computing the mean for each attribute value for the examples belonging to the given class.\n",
    "\n",
    "Slightly more sophisticated is then to go from applying the distance to the class-centroids in a direct comparison to interpreting them in terms of a probability distribution (density function). This can be done with (Naive) Bayesian Classifiers (NBCs), as discussed in the lecture. You will for this lab session implement several variants of the mentioned classifiers, and you will do that on both the extremely simplified version of the MNIST dataset provided in SciKitLearn (datasets.digits), and on a slightly more elaborate but still preprocessed version of the MNIST data provided together with a bit of a code skeleton to read in and visualise the data HERE.\n",
    "\n",
    "[If you are interested and willing to do a bit more file I/O handling, another, even larger and more realistic, version of the MNIST data set can be found on Yann LeCun's site (http://yann.lecun.com/exdb/mnist/).]\n",
    "\n",
    "## Your task\n",
    "You will implement an NCC, a discrete (count-based) NBC, and a Gaussian NBC and run and compare them on different versions of the data set(s) explained in point 2 as follows:\n",
    "\n",
    "1. Classifiers you should implement (and make sure that they work with the data sets indicated)\n",
    "\n",
    "    1. Make use of the provided Gaussian NB Classifier (sklearn.naive_bayes GaussianNB) for all data sets as a comparison. It is already implemented in the handout for the MNIST_Light set (see below).\n",
    "\n",
    "    2. Implement your own Nearest Centroid Classifier (NCC): The NCC fit method should simply compute the mean values over the attribute values of the examples for each class. Prediction is then done by finding the argmin over the distances from the class centroids for each sample. This classifier should be run on all three variants of data sets, see below.\n",
    "\n",
    "    3. Implement a Naive Bayesian Classifier (NBC) based on discrete (statistical) values (i.e., counts of examples falling into the different classes and attribute value groups) both for the priors and for the conditional probabilities. Run this on the two SciKitLearn digits data sets. It should also work with the (non-normalised) MNIST_Light set, but it will probably take a (very long) while and not give anything interesting really...\n",
    "\n",
    "    4. Implement your own Gaussian Naive Bayesian Classifier (GNB) (assume priors for the classes based on counts and Gaussian distributions for the conditional probabilities) and make sure it works for all three data sets. You will most likely encounter problems due to the edge pixels having value 0.0 in practically ALL images in ALL data sets. A workaround is to add an epsilon to the variance. Why is that still working?\n"
   ]
  },
  {
   "cell_type": "code",
   "execution_count": 1,
   "metadata": {
    "colab": {
     "base_uri": "https://localhost:8080/",
     "height": 127
    },
    "colab_type": "code",
    "executionInfo": {
     "elapsed": 28668,
     "status": "ok",
     "timestamp": 1575291094680,
     "user": {
      "displayName": "Sofie Hellmark",
      "photoUrl": "https://lh3.googleusercontent.com/a-/AAuE7mDSmqgK8ons0bmz1lhPSlRbN3izO6q744d3lX7_7g=s64",
      "userId": "13764118350972266310"
     },
     "user_tz": -60
    },
    "id": "CsynXEZxjtZK",
    "outputId": "4d3a7fb8-e990-4726-cf90-f97e0e81c4d0"
   },
   "outputs": [
    {
     "name": "stdout",
     "output_type": "stream",
     "text": [
      "Go to this URL in a browser: https://accounts.google.com/o/oauth2/auth?client_id=947318989803-6bn6qk8qdgf4n4g3pfee6491hc0brc4i.apps.googleusercontent.com&redirect_uri=urn%3aietf%3awg%3aoauth%3a2.0%3aoob&response_type=code&scope=email%20https%3a%2f%2fwww.googleapis.com%2fauth%2fdocs.test%20https%3a%2f%2fwww.googleapis.com%2fauth%2fdrive%20https%3a%2f%2fwww.googleapis.com%2fauth%2fdrive.photos.readonly%20https%3a%2f%2fwww.googleapis.com%2fauth%2fpeopleapi.readonly\n",
      "\n",
      "Enter your authorization code:\n",
      "··········\n",
      "Mounted at /gdrive\n"
     ]
    }
   ],
   "source": [
    "from google.colab import drive\n",
    "drive.mount('/gdrive')\n",
    "path = '/gdrive/My Drive/ML'"
   ]
  },
  {
   "cell_type": "markdown",
   "metadata": {
    "colab_type": "text",
    "id": "5DQG7QQkxhn5"
   },
   "source": [
    "# Data sets\n",
    "Load and plot the three different data sets "
   ]
  },
  {
   "cell_type": "markdown",
   "metadata": {},
   "source": [
    "### SciKitLearn digits"
   ]
  },
  {
   "cell_type": "code",
   "execution_count": 38,
   "metadata": {
    "colab": {
     "base_uri": "https://localhost:8080/",
     "height": 311
    },
    "colab_type": "code",
    "executionInfo": {
     "elapsed": 918,
     "status": "ok",
     "timestamp": 1575293023685,
     "user": {
      "displayName": "Sofie Hellmark",
      "photoUrl": "https://lh3.googleusercontent.com/a-/AAuE7mDSmqgK8ons0bmz1lhPSlRbN3izO6q744d3lX7_7g=s64",
      "userId": "13764118350972266310"
     },
     "user_tz": -60
    },
    "id": "BLmGhW0dxgBR",
    "outputId": "9892f534-0487-4e4a-c3a2-16a02950a8da"
   },
   "outputs": [
    {
     "data": {
      "text/plain": [
       "<Figure size 432x288 with 0 Axes>"
      ]
     },
     "metadata": {},
     "output_type": "display_data"
    },
    {
     "data": {
      "image/png": "[encoded data removed]",
      "text/plain": [
       "<Figure size 288x288 with 1 Axes>"
      ]
     },
     "metadata": {
      "needs_background": "light"
     },
     "output_type": "display_data"
    }
   ],
   "source": [
    "%matplotlib inline\n",
    "from sklearn.datasets import load_digits\n",
    "import matplotlib.pyplot as plt \n",
    "import numpy as np\n",
    "\n",
    "digits =  load_digits()\n",
    "plt.gray() \n",
    "plt.matshow(digits.images[0])\n",
    "plt.show() \n",
    "\n",
    "split = int(len(digits.data)*0.7)\n",
    "\n",
    "data_1_train = digits.data[:split]\n",
    "data_1_test = digits.data[split+1:]\n",
    "labels_1_train = digits.target[:split]\n",
    "labels_1_test = digits.target[split + 1:]"
   ]
  },
  {
   "cell_type": "markdown",
   "metadata": {},
   "source": [
    "### SciKitLearn digits summarised: \n",
    "reduce the data set to only contain three values for the attributes, e.g., 0 for 'dark', 1 for 'grey' and 2 for 'light', with dark, grey and light corresponding to the values suggested in lab 2 (decision trees). Split again into 70% training and 30% test data.\n",
    "Run all four classifiers on this set and compare the results. Why are they so different from those for the original data in particular for the NBC? Why do they decrease in accuracy for the GNB?"
   ]
  },
  {
   "cell_type": "code",
   "execution_count": 39,
   "metadata": {},
   "outputs": [
    {
     "name": "stdout",
     "output_type": "stream",
     "text": [
      "(1257, 64)\n",
      "(8, 8)\n"
     ]
    },
    {
     "data": {
      "image/png": "[encoded data removed]",
      "text/plain": [
       "<Figure size 432x288 with 1 Axes>"
      ]
     },
     "metadata": {
      "needs_background": "light"
     },
     "output_type": "display_data"
    }
   ],
   "source": [
    "#SciKitLearn digits, white, gray, black\n",
    "\n",
    "data_2_train = []\n",
    "data_2_test = []\n",
    "for im in data_1_train:\n",
    "    new_im = []\n",
    "    for pix in im:\n",
    "        if pix < 5:\n",
    "            new_im.append(0)\n",
    "        elif pix < 10:\n",
    "            new_im.append(1)\n",
    "        else:\n",
    "            new_im.append(2)\n",
    "    data_2_train.append(np.array(new_im))\n",
    "\n",
    "data_2_train = np.array(data_2_train)\n",
    "    \n",
    "for im in data_1_test:\n",
    "    new_im = []\n",
    "    for pix in im:\n",
    "        if pix < 5:\n",
    "            new_im.append(0)\n",
    "        elif pix < 10:\n",
    "            new_im.append(1)\n",
    "        else:\n",
    "            new_im.append(2)\n",
    "    data_2_test.append(np.array(new_im))\n",
    "\n",
    "data_2_test = np.array(data_2_test)\n",
    "\n",
    "print(np.shape(data_2_train))\n",
    "im = np.reshape(data_2_train[0],(8,8))\n",
    "print(np.shape(im))\n",
    "\n",
    "plt.gray() \n",
    "plt.imshow(im) \n",
    "plt.show() "
   ]
  },
  {
   "cell_type": "markdown",
   "metadata": {},
   "source": [
    "### MNIST data"
   ]
  },
  {
   "cell_type": "code",
   "execution_count": 44,
   "metadata": {},
   "outputs": [
    {
     "data": {
      "image/png": "[encoded data removed]",
      "text/plain": [
       "<Figure size 432x288 with 80 Axes>"
      ]
     },
     "metadata": {
      "needs_background": "light"
     },
     "output_type": "display_data"
    },
    {
     "name": "stdout",
     "output_type": "stream",
     "text": [
      "(400,)\n",
      "(20, 20)\n",
      "1.0\n",
      "0.0\n"
     ]
    },
    {
     "data": {
      "image/png": "[encoded data removed]",
      "text/plain": [
       "<Figure size 432x288 with 1 Axes>"
      ]
     },
     "metadata": {
      "needs_background": "light"
     },
     "output_type": "display_data"
    }
   ],
   "source": [
    "from Handout_NaiveBayes import MNIST\n",
    "\n",
    "mnist = MNIST.MNISTData('Handout_NaiveBayes/MNIST_Light/*/*.png')\n",
    "\n",
    "data_mnist_train, data_mnist_test, labels_mnist_train, labels_mnist_test = mnist.get_data()\n",
    "\n",
    "mnist.visualize_random()\n",
    "print(np.shape(data_mnist_train[0]))\n",
    "im = np.reshape(data_mnist_train[0],(20,20))\n",
    "print(np.shape(im))\n",
    "\n",
    "plt.gray() \n",
    "plt.imshow(im) \n",
    "plt.show() \n"
   ]
  },
  {
   "cell_type": "markdown",
   "metadata": {},
   "source": [
    "## Function to calculate mean and std "
   ]
  },
  {
   "cell_type": "code",
   "execution_count": 4,
   "metadata": {},
   "outputs": [],
   "source": [
    "# CALCULATING MEAN AND STD\n",
    "import math \n",
    "\n",
    "# sorting all the images after class\n",
    "def get_mean_std(train_features,train_labels, classes=range(10)): \n",
    "    im_dict = {}\n",
    "    for im, label in zip(train_features, train_labels):\n",
    "        if label in im_dict.keys(): \n",
    "            im_dict[label].append(list(im))\n",
    "        else: \n",
    "            im_dict[label] = [list(im)]\n",
    "\n",
    "    all_mean = {}  \n",
    "    all_std = {}\n",
    "    for c in classes: \n",
    "        pixels = {}\n",
    "        for im in im_dict[c]: \n",
    "            for i,pix in enumerate(im):\n",
    "                if i in pixels.keys():  \n",
    "                    pixels[i].append(pix)\n",
    "                else: \n",
    "                    pixels[i] = [pix]\n",
    "        pixels_mean = {}\n",
    "        pixels_std = {}\n",
    "        for i,pix in enumerate(pixels): \n",
    "            pixels_mean[i] = np.mean(pixels[i])\n",
    "            pixels_std[i] = np.std(pixels[i])+0.0001\n",
    "\n",
    "        all_mean[c] = pixels_mean\n",
    "        all_std[c] = pixels_std\n",
    "    return all_mean, all_std\n",
    "    \n",
    "    "
   ]
  },
  {
   "cell_type": "markdown",
   "metadata": {
    "colab_type": "text",
    "id": "E_SwphXkmZGB"
   },
   "source": [
    "1.1 \n",
    "Make use of the provided Gaussian NB Classifier (sklearn.naive_bayes GaussianNB) for all data sets as a comparison. It is already implemented in the handout for the MNIST_Light set (see below)."
   ]
  },
  {
   "cell_type": "code",
   "execution_count": 41,
   "metadata": {},
   "outputs": [],
   "source": [
    "#train_features, test_features, train_labels, test_labels = data_1_train, data_1_test, labels_1_train, labels_1_test \n",
    "#train_features, test_features, train_labels, test_labels  = data_2_train, data_2_test, labels_1_train, labels_1_test\n",
    "train_features, test_features, train_labels, test_labels  = data_mnist_train, data_mnist_test, labels_mnist_train, labels_mnist_test "
   ]
  },
  {
   "cell_type": "code",
   "execution_count": 33,
   "metadata": {
    "colab": {
     "base_uri": "https://localhost:8080/",
     "height": 486
    },
    "colab_type": "code",
    "executionInfo": {
     "elapsed": 5010,
     "status": "error",
     "timestamp": 1575291118588,
     "user": {
      "displayName": "Sofie Hellmark",
      "photoUrl": "https://lh3.googleusercontent.com/a-/AAuE7mDSmqgK8ons0bmz1lhPSlRbN3izO6q744d3lX7_7g=s64",
      "userId": "13764118350972266310"
     },
     "user_tz": -60
    },
    "id": "JxjwSNwUmb1G",
    "outputId": "a4b41188-d81e-4caa-a08c-91b0cff4b59a"
   },
   "outputs": [
    {
     "name": "stdout",
     "output_type": "stream",
     "text": [
      "Classification report SKLearn GNB:\n",
      "              precision    recall  f1-score   support\n",
      "\n",
      "           0       0.54      0.94      0.69       164\n",
      "           1       0.71      0.94      0.81       152\n",
      "           2       0.83      0.50      0.62       155\n",
      "           3       0.83      0.53      0.65       154\n",
      "           4       0.75      0.31      0.44       143\n",
      "           5       0.67      0.16      0.25       141\n",
      "           6       0.81      0.85      0.83       143\n",
      "           7       0.83      0.82      0.83       158\n",
      "           8       0.41      0.64      0.50       132\n",
      "           9       0.60      0.84      0.70       158\n",
      "\n",
      "    accuracy                           0.66      1500\n",
      "   macro avg       0.70      0.65      0.63      1500\n",
      "weighted avg       0.70      0.66      0.64      1500\n",
      "\n",
      "\n",
      "Confusion matrix SKLearn GNB:\n",
      "[[154   0   6   0   1   1   0   0   1   1]\n",
      " [  1 143   1   0   0   1   0   1   3   2]\n",
      " [ 11   6  77  10   2   1  19   1  27   1]\n",
      " [ 32  11   5  82   0   0   2   3  12   7]\n",
      " [ 10   1   2   2  45   2   6   9  24  42]\n",
      " [ 55   7   0   2   2  22   1   0  47   5]\n",
      " [ 10   7   0   0   0   2 122   0   2   0]\n",
      " [  2   1   1   2   3   0   0 130   3  16]\n",
      " [  5  23   1   1   0   4   1   0  84  13]\n",
      " [  3   1   0   0   7   0   0  12   2 133]]\n"
     ]
    }
   ],
   "source": [
    "# funkar med all data (oftast)\n",
    "from sklearn import metrics\n",
    "from sklearn.naive_bayes import GaussianNB\n",
    "\n",
    "\n",
    "gnb = GaussianNB()\n",
    "gnb.fit(train_features, train_labels)\n",
    "y_pred = gnb.predict(test_features)\n",
    "\n",
    "print(\"Classification report SKLearn GNB:\\n%s\\n\"\n",
    "    % (metrics.classification_report(test_labels, y_pred)))\n",
    "print(\"Confusion matrix SKLearn GNB:\\n%s\" % metrics.confusion_matrix(test_labels, y_pred))\n",
    "\n",
    "#mnist.visualize_wrong_class(y_pred, 8)"
   ]
  },
  {
   "cell_type": "markdown",
   "metadata": {},
   "source": [
    "### Plot misclassified digits"
   ]
  },
  {
   "cell_type": "code",
   "execution_count": 8,
   "metadata": {},
   "outputs": [
    {
     "data": {
      "image/png": "[encoded data removed]",
      "text/plain": [
       "<Figure size 1440x288 with 5 Axes>"
      ]
     },
     "metadata": {
      "needs_background": "light"
     },
     "output_type": "display_data"
    }
   ],
   "source": [
    "mnist = True\n",
    "index = 0\n",
    "misclassifiedIndexes = []\n",
    "for label, predict in zip(test_labels, y_pred):\n",
    "    if label != predict: \n",
    "        misclassifiedIndexes.append(index)\n",
    "    index +=1\n",
    "        \n",
    "plt.figure(figsize=(20,4))\n",
    "for plotIndex, badIndex in enumerate(misclassifiedIndexes[0:5]):\n",
    "    plt.subplot(1, 5, plotIndex + 1)\n",
    "    if mnist:\n",
    "        plt.imshow(np.reshape(test_features[badIndex], (20,20)), cmap=plt.cm.gray)\n",
    "    else:\n",
    "        plt.imshow(np.reshape(test_features[badIndex], (8,8)), cmap=plt.cm.gray)\n",
    "    plt.title('Predicted: {}, Actual: {}'.format(y_pred[badIndex], test_labels[badIndex]), fontsize = 15)"
   ]
  },
  {
   "cell_type": "markdown",
   "metadata": {
    "colab_type": "text",
    "id": "C1OVNehCsgvh"
   },
   "source": [
    "## 1.2 Implement your own Nearest Centroid Classifier (NCC):\n",
    "The NCC fit method should simply compute the mean values over the attribute values of the examples for each class. Prediction is then done by finding the argmin over the distances from the class centroids for each sample. This classifier should be run on all three variants of data sets, see below"
   ]
  },
  {
   "cell_type": "code",
   "execution_count": 26,
   "metadata": {},
   "outputs": [
    {
     "name": "stdout",
     "output_type": "stream",
     "text": [
      "{0: 0.096, 1: 0.09942857142857142, 2: 0.09857142857142857, 3: 0.09885714285714285, 4: 0.102, 5: 0.10257142857142858, 6: 0.102, 7: 0.09771428571428571, 8: 0.10514285714285715, 9: 0.09771428571428571}\n"
     ]
    }
   ],
   "source": [
    "# calculate class_probaility\n",
    "class_probability = {}\n",
    "for c in range(10): \n",
    "    class_probability[c] = 0\n",
    "    \n",
    "for t in train_labels: \n",
    "    class_probability[t] += 1\n",
    "\n",
    "for key in class_probability.keys(): \n",
    "    class_probability[key] = class_probability[key]/len(train_labels)\n",
    "    \n",
    "print(class_probability)\n",
    "\n"
   ]
  },
  {
   "cell_type": "code",
   "execution_count": 27,
   "metadata": {
    "colab": {},
    "colab_type": "code",
    "id": "fU-VuGnLnzgY"
   },
   "outputs": [
    {
     "name": "stdout",
     "output_type": "stream",
     "text": [
      "Classification report SKLearn GNB:\n",
      "              precision    recall  f1-score   support\n",
      "\n",
      "           0       0.91      0.91      0.91       164\n",
      "           1       0.71      0.97      0.82       152\n",
      "           2       0.84      0.73      0.78       155\n",
      "           3       0.74      0.76      0.75       154\n",
      "           4       0.75      0.76      0.75       143\n",
      "           5       0.72      0.69      0.70       141\n",
      "           6       0.90      0.86      0.88       143\n",
      "           7       0.95      0.80      0.87       158\n",
      "           8       0.79      0.72      0.75       132\n",
      "           9       0.76      0.80      0.78       158\n",
      "\n",
      "    accuracy                           0.80      1500\n",
      "   macro avg       0.81      0.80      0.80      1500\n",
      "weighted avg       0.81      0.80      0.80      1500\n",
      "\n",
      "\n",
      "Confusion matrix SKLearn GNB:\n",
      "[[150   0   2   0   0   6   3   1   2   0]\n",
      " [  0 148   0   0   0   2   0   0   2   0]\n",
      " [  0  15 113   8   2   3   3   1   8   2]\n",
      " [  1   5   8 117   1   7   1   2   8   4]\n",
      " [  1   4   2   0 108   0   3   0   1  24]\n",
      " [  3   9   0  24   4  97   2   0   1   1]\n",
      " [  3   6   2   0   4   5 123   0   0   0]\n",
      " [  1  14   2   0   6   1   0 127   1   6]\n",
      " [  3   6   4   8   0  12   1   0  95   3]\n",
      " [  3   0   1   1  19   2   1   3   2 126]]\n"
     ]
    },
    {
     "data": {
      "image/png": "[encoded data removed]",
      "text/plain": [
       "<Figure size 1440x288 with 10 Axes>"
      ]
     },
     "metadata": {
      "needs_background": "light"
     },
     "output_type": "display_data"
    }
   ],
   "source": [
    "# works for all data sates and give acc around 80%\n",
    "\n",
    "# Dict with class as key, value list of one image (sum of images) and counter\n",
    "# CLASSIFIER\n",
    "\n",
    "from numpy import linalg as la\n",
    "\n",
    "NCC = {}\n",
    "mnist = True\n",
    "\n",
    "# loop through all training data \n",
    "for idx in range(len(train_features)):\n",
    "    # Add images to the dict and a counter\n",
    "    X = train_features[idx]\n",
    "    y = train_labels[idx]\n",
    "    if y in NCC:\n",
    "        NCC[y][0] += X\n",
    "        NCC[y][1] += 1\n",
    "    else:\n",
    "        NCC[y] = [X]\n",
    "        NCC[y].append(1)\n",
    "    \n",
    "    \n",
    "# Divide each pixel in image with the counter\n",
    "classifier = {}\n",
    "for y in NCC.keys():    \n",
    "    classifier[y] = np.array(NCC[y][0]) / NCC[y][1]\n",
    "\n",
    "\n",
    "# Plot the classifiers (averages for each class)\n",
    "plt.figure(figsize=(20,4))\n",
    "for plotIndex, badIndex in enumerate(classifier.keys()):\n",
    "    plt.subplot(2, 5, plotIndex + 1)\n",
    "    if mnist:\n",
    "        plt.imshow(np.reshape(classifier[badIndex], (20, 20)), cmap=plt.cm.gray)\n",
    "    else:\n",
    "        plt.imshow(np.reshape(classifier[badIndex], (8,8)), cmap=plt.cm.gray)\n",
    "    #plt.title('Predicted: {}, Actual: {}'.format(y_pred[badIndex], test_labels[badIndex]), fontsize = 15)\n",
    "    #if plotIndex == 4:\n",
    "     #   break\n",
    "    \n",
    "# PREDICTION\n",
    "# Check which class with smalles distance (smallest MSE)\n",
    "y_pred = -1 * np.ones(len(test_labels))\n",
    "for idx in range(len(test_features)):\n",
    "    # Add images to the dict and a counter\n",
    "    X = test_features[idx]\n",
    "    \n",
    "    min_dist = 15**32 + 1 # since max dist is sqrt(15^64) = 15^32\n",
    "    \n",
    "    for y in classifier.keys():\n",
    "        #if y == 7 or y == 9:\n",
    "            #continue\n",
    "        \n",
    "        d = la.norm(classifier[y] - X)\n",
    "        #if y == 0 or y == 5:\n",
    "            #print(d)\n",
    "        if d < min_dist:\n",
    "            min_dist = d\n",
    "            y_pred[idx] = y\n",
    "            \n",
    "            \n",
    "print(\"Classification report SKLearn GNB:\\n%s\\n\"\n",
    "    % (metrics.classification_report(test_labels, y_pred)))\n",
    "print(\"Confusion matrix SKLearn GNB:\\n%s\" % metrics.confusion_matrix(test_labels, y_pred))    "
   ]
  },
  {
   "cell_type": "code",
   "execution_count": null,
   "metadata": {},
   "outputs": [],
   "source": []
  },
  {
   "cell_type": "markdown",
   "metadata": {},
   "source": [
    "### 1.3 Implement a Naive Bayesian Classifier (NBC) \n",
    "based on discrete (statistical) values (i.e., counts of examples falling into the different classes and attribute value groups) both for the priors and for the conditional probabilities. Run this on the two SciKitLearn digits data sets. It should also work with the (non-normalised) MNIST_Light set, but it will probably take a (very long) while and not give anything interesting really.."
   ]
  },
  {
   "cell_type": "code",
   "execution_count": 11,
   "metadata": {},
   "outputs": [],
   "source": [
    "import math \n",
    "# CLASSIFIER\n",
    "# P(C)\n",
    "# Calculate P(C) for each class [0,...,9]\n",
    "\n",
    "#P(x_i|C)\n",
    "# For each pixel and class, how probable is the pixel values [0,...,15]\n",
    "    # Use this to later calculate P(x_i|C)=number of times pixel, i, has color value x_i AND belonged to class C\n",
    "    # divided with the number of data in our set that belong to class C. \n",
    "    # Dict{class: {pos: [counter for each color value, length = 16]}}\n",
    "    \n",
    "# divide each value in list with sum of list \n",
    "\n",
    "\n",
    "# PREDICTION\n",
    "\n",
    "# probability_list with the probabilities for each class\n",
    "# Probability = P(C|X)\n",
    "# For each class: \n",
    "    # Probability[i] = P(C)^n\n",
    "    # For each pixel in image: \n",
    "        # Get the probability for this color value of the pixel given the class P(x_i|C) from dict\n",
    "        # multiply w probability[i] to get total probability\n",
    "\n",
    "# Choose class with largest probability, we dont need to normalize\n",
    "\n",
    "### kopied from cell below\n",
    "\n",
    "# Calculate mean and std for each class and pixel \n",
    "#train_features, test_features, train_labels, test_labels\n",
    "\n",
    "\n",
    "\n",
    "\n",
    "def NB_classifier(train_features, test_features, train_labels, test_labels):\n",
    "    classes = range(10)\n",
    "    # CLASSIFIER\n",
    "    all_mean, all_std = get_mean_std(train_features,train_labels)\n",
    "    \n",
    "    my_dict = {}\n",
    "    for idx in range(len(train_features)):\n",
    "        # Add images to the dict and a counter\n",
    "        X = train_features[idx]\n",
    "        \n",
    "        y = train_labels[idx]\n",
    "        if y in my_dict:\n",
    "            for idx, xj in enumerate(X):\n",
    "                #print(my_dict[y])\n",
    "                #print(my_dict[y][idx])\n",
    "                #print(my_dict[y][idx][xj])\n",
    "                my_dict[y][idx][int(xj)] += 1\n",
    "        else:\n",
    "            dy = {}\n",
    "            for idx, xj in enumerate(X):\n",
    "                # why is x>15?\n",
    "                lst = np.zeros(17)\n",
    "                #print(xj)\n",
    "                lst[int(xj)] = 1\n",
    "                dy[idx] = lst\n",
    "            my_dict[y] = dy\n",
    "\n",
    "    #PREDICTION\n",
    "    N = len(test_features)\n",
    "    im = test_features[0]\n",
    "    y_pred = []\n",
    "    for im in test_features:\n",
    "        probabilities = {}\n",
    "        for c in classes: \n",
    "            probabilities[c] = class_probability[c]\n",
    "            for i,val in enumerate(im): \n",
    "                x = val\n",
    "                # behöver jag dessa?\n",
    "                mu = all_mean[c][i]\n",
    "                std = all_std[c][i]\n",
    "                # p_conditional = freq ci = x / freq ci\n",
    "                hits = my_dict[c][i][int(val)]\n",
    "                total = sum(my_dict[c][i])\n",
    "                p_conditional = hits / total\n",
    "                # p_conditional =1/math.sqrt(2*math.pi*std**2)*math.exp(-(x-mu)**2/(2*std**2))\n",
    "                probabilities[c] *= p_conditional\n",
    "        #print(probabilities)        \n",
    "        y_pred.append(max(probabilities, key=probabilities.get)) \n",
    "            # P(x|C)=1/2pi*exp(mean-x/std^2)\n",
    "            # Calculate the probability x in this class given distribution using mean and std\n",
    "            # multiply w probability[i] to get total probability\n",
    "\n",
    "    #print(np.shape())\n",
    "    print(\"Classification report SKLearn GNB:\\n%s\\n\" % (metrics.classification_report(test_labels, y_pred)))\n",
    "    print(\"Confusion matrix SKLearn GNB:\\n%s\" % metrics.confusion_matrix(test_labels, y_pred))\n"
   ]
  },
  {
   "cell_type": "code",
   "execution_count": 43,
   "metadata": {},
   "outputs": [
    {
     "name": "stdout",
     "output_type": "stream",
     "text": [
      "Classification report SKLearn GNB:\n",
      "              precision    recall  f1-score   support\n",
      "\n",
      "           0       0.85      0.73      0.78       164\n",
      "           1       0.44      0.91      0.59       152\n",
      "           2       0.72      0.55      0.62       155\n",
      "           3       0.71      0.56      0.63       154\n",
      "           4       0.61      0.64      0.62       143\n",
      "           5       0.55      0.57      0.56       141\n",
      "           6       0.84      0.61      0.70       143\n",
      "           7       0.76      0.55      0.64       158\n",
      "           8       0.52      0.46      0.49       132\n",
      "           9       0.54      0.59      0.57       158\n",
      "\n",
      "    accuracy                           0.62      1500\n",
      "   macro avg       0.65      0.62      0.62      1500\n",
      "weighted avg       0.66      0.62      0.62      1500\n",
      "\n",
      "\n",
      "Confusion matrix SKLearn GNB:\n",
      "[[119   5   7   2   2  19   5   0   2   3]\n",
      " [  0 138   0   0   0   4   1   0   9   0]\n",
      " [  3  24  85   8   7   8   3   0  12   5]\n",
      " [  2  16  13  87   3  11   0   0  16   6]\n",
      " [  3  14   3   0  91   1   3   4   3  21]\n",
      " [  5  16   0  10  14  81   3   4   5   3]\n",
      " [  3  27   5   2   3   8  87   1   1   6]\n",
      " [  1  21   2   1   8   4   0  87   5  29]\n",
      " [  0  33   3  12   6  11   0   1  61   5]\n",
      " [  4  20   0   1  16   1   2  18   3  93]]\n"
     ]
    }
   ],
   "source": [
    "#train_features, test_features, train_labels, test_labels = data_1_train, data_1_test, labels_1_train, labels_1_test \n",
    "#train_features, test_features, train_labels, test_labels  = data_2_train, data_2_test, labels_1_train, labels_1_test\n",
    "train_features, test_features, train_labels, test_labels  = data_mnist_train, data_mnist_test, labels_mnist_train, labels_mnist_test \n",
    "NB_classifier(train_features, test_features, train_labels, test_labels)"
   ]
  },
  {
   "cell_type": "markdown",
   "metadata": {},
   "source": [
    "### 1.4 Implement your own Gaussian Naive Bayesian Classifier (GNB) \n",
    "(assume priors for the classes based on counts and Gaussian distributions for the conditional probabilities) and make sure it works for all three data sets. You will most likely encounter problems due to the edge pixels having value 0.0 in practically ALL images in ALL data sets. A workaround is to add an epsilon to the variance. Why is that still working?"
   ]
  },
  {
   "cell_type": "code",
   "execution_count": 13,
   "metadata": {},
   "outputs": [],
   "source": [
    "import math \n",
    "# Calculate mean and std for each class and pixel \n",
    "#train_features, test_features, train_labels, test_labels\n",
    "def GNB_classifier(train_features, test_features, train_labels, test_labels):\n",
    "    classes = range(10)\n",
    "    # CLASSIFIER\n",
    "    all_mean, all_std = get_mean_std(train_features,train_labels)\n",
    "\n",
    "    #PREDICTION\n",
    "    N = len(test_features)\n",
    "    im = test_features[0]\n",
    "    y_pred = []\n",
    "    for im in test_features:\n",
    "        probabilities = {}\n",
    "        for c in classes: \n",
    "            probabilities[c] = class_probability[c]\n",
    "            for i,val in enumerate(im): \n",
    "                x = val\n",
    "                mu = all_mean[c][i]\n",
    "                std = all_std[c][i]\n",
    "                p_conditional =1/math.sqrt(2*math.pi*std**2)*math.exp(-(x-mu)**2/(2*std**2))\n",
    "                probabilities[c] *= p_conditional\n",
    "        #print(probabilities)        \n",
    "        y_pred.append(max(probabilities, key=probabilities.get)) \n",
    "            # P(x|C)=1/2pi*exp(mean-x/std^2)\n",
    "            # Calculate the probability x in this class given distribution using mean and std\n",
    "            # multiply w probability[i] to get total probability\n",
    "\n",
    "    #print(np.shape())\n",
    "    print(\"Classification report SKLearn GNB:\\n%s\\n\" % (metrics.classification_report(test_labels, y_pred)))\n",
    "    print(\"Confusion matrix SKLearn GNB:\\n%s\" % metrics.confusion_matrix(test_labels, y_pred))\n",
    "\n"
   ]
  },
  {
   "cell_type": "markdown",
   "metadata": {},
   "source": [
    "## Digits"
   ]
  },
  {
   "cell_type": "code",
   "execution_count": 14,
   "metadata": {},
   "outputs": [
    {
     "name": "stdout",
     "output_type": "stream",
     "text": [
      "Classification report SKLearn GNB:\n",
      "              precision    recall  f1-score   support\n",
      "\n",
      "           0       0.94      0.96      0.95        53\n",
      "           1       0.61      0.81      0.70        53\n",
      "           2       1.00      0.79      0.88        53\n",
      "           3       0.92      0.64      0.76        53\n",
      "           4       1.00      0.84      0.91        56\n",
      "           5       0.83      0.93      0.87        56\n",
      "           6       0.96      0.98      0.97        54\n",
      "           7       0.71      0.83      0.77        54\n",
      "           8       0.58      0.67      0.63        52\n",
      "           9       0.83      0.73      0.78        55\n",
      "\n",
      "    accuracy                           0.82       539\n",
      "   macro avg       0.84      0.82      0.82       539\n",
      "weighted avg       0.84      0.82      0.82       539\n",
      "\n",
      "\n",
      "Confusion matrix SKLearn GNB:\n",
      "[[51  1  0  0  0  0  0  0  1  0]\n",
      " [ 1 43  0  0  0  0  0  0  3  6]\n",
      " [ 0  6 42  1  0  0  1  0  1  2]\n",
      " [ 0  3  0 34  0  3  0  2 11  0]\n",
      " [ 1  0  0  0 47  0  0  7  1  0]\n",
      " [ 0  2  0  0  0 52  1  1  0  0]\n",
      " [ 0  1  0  0  0  0 53  0  0  0]\n",
      " [ 0  0  0  0  0  2  0 45  7  0]\n",
      " [ 0 13  0  1  0  1  0  2 35  0]\n",
      " [ 1  1  0  1  0  5  0  6  1 40]]\n"
     ]
    }
   ],
   "source": [
    "train_features, test_features, train_labels, test_labels = data_1_train, data_1_test, labels_1_train, labels_1_test \n",
    "GNB_classifier(train_features, test_features, train_labels, test_labels)"
   ]
  },
  {
   "cell_type": "markdown",
   "metadata": {},
   "source": [
    "##  Digits summarised"
   ]
  },
  {
   "cell_type": "code",
   "execution_count": 15,
   "metadata": {},
   "outputs": [
    {
     "name": "stdout",
     "output_type": "stream",
     "text": [
      "Classification report SKLearn GNB:\n",
      "              precision    recall  f1-score   support\n",
      "\n",
      "           0       0.89      0.94      0.92        53\n",
      "           1       0.81      0.42      0.55        53\n",
      "           2       0.97      0.74      0.84        53\n",
      "           3       0.95      0.38      0.54        53\n",
      "           4       0.98      0.93      0.95        56\n",
      "           5       0.91      0.77      0.83        56\n",
      "           6       0.96      0.87      0.91        54\n",
      "           7       0.80      0.83      0.82        54\n",
      "           8       0.38      0.88      0.53        52\n",
      "           9       0.64      0.82      0.72        55\n",
      "\n",
      "    accuracy                           0.76       539\n",
      "   macro avg       0.83      0.76      0.76       539\n",
      "weighted avg       0.83      0.76      0.76       539\n",
      "\n",
      "\n",
      "Confusion matrix SKLearn GNB:\n",
      "[[50  0  0  0  1  0  0  0  2  0]\n",
      " [ 0 22  0  0  0  1  0  0 18 12]\n",
      " [ 1  0 39  0  0  0  0  0 12  1]\n",
      " [ 0  3  0 20  0  0  0  3 21  6]\n",
      " [ 0  0  0  0 52  0  0  1  3  0]\n",
      " [ 1  0  1  0  0 43  2  1  6  2]\n",
      " [ 3  0  0  0  0  0 47  0  2  2]\n",
      " [ 0  0  0  1  0  2  0 45  6  0]\n",
      " [ 0  1  0  0  0  1  0  2 46  2]\n",
      " [ 1  1  0  0  0  0  0  4  4 45]]\n"
     ]
    }
   ],
   "source": [
    "train_features, test_features, train_labels, test_labels  = data_2_train, data_2_test, labels_1_train, labels_1_test\n",
    "GNB_classifier(train_features, test_features, train_labels, test_labels)"
   ]
  },
  {
   "cell_type": "markdown",
   "metadata": {},
   "source": [
    "## MINST "
   ]
  },
  {
   "cell_type": "code",
   "execution_count": 42,
   "metadata": {},
   "outputs": [
    {
     "name": "stdout",
     "output_type": "stream",
     "text": [
      "Classification report SKLearn GNB:\n",
      "              precision    recall  f1-score   support\n",
      "\n",
      "           0       0.19      0.99      0.32       164\n",
      "           1       0.78      0.76      0.77       152\n",
      "           2       0.32      0.52      0.40       155\n",
      "           3       0.22      0.13      0.16       154\n",
      "           4       0.22      0.10      0.14       143\n",
      "           5       0.38      0.09      0.14       141\n",
      "           6       0.93      0.29      0.45       143\n",
      "           7       0.76      0.14      0.24       158\n",
      "           8       0.33      0.01      0.01       132\n",
      "           9       0.00      0.00      0.00       158\n",
      "\n",
      "    accuracy                           0.31      1500\n",
      "   macro avg       0.41      0.30      0.26      1500\n",
      "weighted avg       0.41      0.31      0.27      1500\n",
      "\n",
      "\n",
      "Confusion matrix SKLearn GNB:\n",
      "[[162   0   1   0   1   0   0   0   0   0]\n",
      " [ 32 115   2   2   0   1   0   0   0   0]\n",
      " [ 61   4  80   1   2   1   3   1   2   0]\n",
      " [ 95   3  36  20   0   0   0   0   0   0]\n",
      " [ 77   4  35   8  15   2   0   2   0   0]\n",
      " [ 96   1   3   0  29  12   0   0   0   0]\n",
      " [ 41   4  53   0   1   2  42   0   0   0]\n",
      " [ 82   3   4  36   6   5   0  22   0   0]\n",
      " [ 72  14  31   1   4   9   0   0   1   0]\n",
      " [120   0   4  21   9   0   0   4   0   0]]\n"
     ]
    }
   ],
   "source": [
    "train_features, test_features, train_labels, test_labels  = data_mnist_train, data_mnist_test, labels_mnist_train, labels_mnist_test \n",
    "GNB_classifier(train_features, test_features, train_labels, test_labels)"
   ]
  },
  {
   "cell_type": "code",
   "execution_count": null,
   "metadata": {},
   "outputs": [],
   "source": []
  }
 ],
 "metadata": {
  "accelerator": "GPU",
  "colab": {
   "name": "lab5.ipynb",
   "provenance": []
  },
  "kernelspec": {
   "display_name": "Python 3",
   "language": "python",
   "name": "python3"
  },
  "language_info": {
   "codemirror_mode": {
    "name": "ipython",
    "version": 3
   },
   "file_extension": ".py",
   "mimetype": "text/x-python",
   "name": "python",
   "nbconvert_exporter": "python",
   "pygments_lexer": "ipython3",
   "version": "3.6.9"
  }
 },
 "nbformat": 4,
 "nbformat_minor": 4
}
