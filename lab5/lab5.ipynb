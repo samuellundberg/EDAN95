{
 "cells": [
  {
   "cell_type": "markdown",
   "metadata": {
    "colab_type": "text",
    "id": "KWTkuY3-jvte"
   },
   "source": [
    "# Lab 5 Applied Machine Learning\n",
    "Objective\n",
    "In this lab session you will\n",
    "\n",
    "* explore some programming concepts in Python, SciKitLearn, and Numpy to implement several statistical / Bayesian classifiers and compare them against each other and with one provided in SciKitLearn,\n",
    "* get acquainted with another version of the MNIST dataset, and \n",
    "* explore the effects of specific phenomena in the data on the classification results, also depending on the choice of discrete vs continuous implementation of the models.  \n",
    "\n",
    "## Background and Tools\n",
    "\n",
    "A rather intuitive and greedy (supervised) method to classification is the (k-)Nearest-Neighbour classification. This can be based on a brute force method, in which the entire (training) data set is searched for the (k) example(s) that is (are) closest to the sample one wants to classify. Similar to this is the Nearest-Centroid-Classifier (NCC) that minimises the distance between the sample to the centroids (means) of the clusters formed in feature space by the examples belonging to the different classes. In the supervised case, it is quite obvious how to find the centroid for a class - it is simply the \"point\" derived by computing the mean for each attribute value for the examples belonging to the given class.\n",
    "\n",
    "Slightly more sophisticated is then to go from applying the distance to the class-centroids in a direct comparison to interpreting them in terms of a probability distribution (density function). This can be done with (Naive) Bayesian Classifiers (NBCs), as discussed in the lecture. You will for this lab session implement several variants of the mentioned classifiers, and you will do that on both the extremely simplified version of the MNIST dataset provided in SciKitLearn (datasets.digits), and on a slightly more elaborate but still preprocessed version of the MNIST data provided together with a bit of a code skeleton to read in and visualise the data HERE.\n",
    "\n",
    "[If you are interested and willing to do a bit more file I/O handling, another, even larger and more realistic, version of the MNIST data set can be found on Yann LeCun's site (http://yann.lecun.com/exdb/mnist/).]\n",
    "\n",
    "## Your task\n",
    "You will implement an NCC, a discrete (count-based) NBC, and a Gaussian NBC and run and compare them on different versions of the data set(s) explained in point 2 as follows:\n",
    "\n",
    "1. Classifiers you should implement (and make sure that they work with the data sets indicated)\n",
    "\n",
    "    1. Make use of the provided Gaussian NB Classifier (sklearn.naive_bayes GaussianNB) for all data sets as a comparison. It is already implemented in the handout for the MNIST_Light set (see below).\n",
    "\n",
    "    2. Implement your own Nearest Centroid Classifier (NCC): The NCC fit method should simply compute the mean values over the attribute values of the examples for each class. Prediction is then done by finding the argmin over the distances from the class centroids for each sample. This classifier should be run on all three variants of data sets, see below.\n",
    "\n",
    "    3. Implement a Naive Bayesian Classifier (NBC) based on discrete (statistical) values (i.e., counts of examples falling into the different classes and attribute value groups) both for the priors and for the conditional probabilities. Run this on the two SciKitLearn digits data sets. It should also work with the (non-normalised) MNIST_Light set, but it will probably take a (very long) while and not give anything interesting really...\n",
    "\n",
    "    4. Implement your own Gaussian Naive Bayesian Classifier (GNB) (assume priors for the classes based on counts and Gaussian distributions for the conditional probabilities) and make sure it works for all three data sets. You will most likely encounter problems due to the edge pixels having value 0.0 in practically ALL images in ALL data sets. A workaround is to add an epsilon to the variance. Why is that still working?\n"
   ]
  },
  {
   "cell_type": "code",
   "execution_count": 1,
   "metadata": {
    "colab": {
     "base_uri": "https://localhost:8080/",
     "height": 127
    },
    "colab_type": "code",
    "executionInfo": {
     "elapsed": 28668,
     "status": "ok",
     "timestamp": 1575291094680,
     "user": {
      "displayName": "Sofie Hellmark",
      "photoUrl": "https://lh3.googleusercontent.com/a-/AAuE7mDSmqgK8ons0bmz1lhPSlRbN3izO6q744d3lX7_7g=s64",
      "userId": "13764118350972266310"
     },
     "user_tz": -60
    },
    "id": "CsynXEZxjtZK",
    "outputId": "4d3a7fb8-e990-4726-cf90-f97e0e81c4d0"
   },
   "outputs": [
    {
     "name": "stdout",
     "output_type": "stream",
     "text": [
      "Go to this URL in a browser: https://accounts.google.com/o/oauth2/auth?client_id=947318989803-6bn6qk8qdgf4n4g3pfee6491hc0brc4i.apps.googleusercontent.com&redirect_uri=urn%3aietf%3awg%3aoauth%3a2.0%3aoob&response_type=code&scope=email%20https%3a%2f%2fwww.googleapis.com%2fauth%2fdocs.test%20https%3a%2f%2fwww.googleapis.com%2fauth%2fdrive%20https%3a%2f%2fwww.googleapis.com%2fauth%2fdrive.photos.readonly%20https%3a%2f%2fwww.googleapis.com%2fauth%2fpeopleapi.readonly\n",
      "\n",
      "Enter your authorization code:\n",
      "··········\n",
      "Mounted at /gdrive\n"
     ]
    }
   ],
   "source": [
    "from google.colab import drive\n",
    "drive.mount('/gdrive')\n",
    "path = '/gdrive/My Drive/ML'"
   ]
  },
  {
   "cell_type": "markdown",
   "metadata": {
    "colab_type": "text",
    "id": "5DQG7QQkxhn5"
   },
   "source": [
    "# Data sets\n",
    "Load and plot the three different data sets "
   ]
  },
  {
   "cell_type": "markdown",
   "metadata": {},
   "source": [
    "### SciKitLearn digits"
   ]
  },
  {
   "cell_type": "code",
   "execution_count": 2,
   "metadata": {
    "colab": {
     "base_uri": "https://localhost:8080/",
     "height": 311
    },
    "colab_type": "code",
    "executionInfo": {
     "elapsed": 918,
     "status": "ok",
     "timestamp": 1575293023685,
     "user": {
      "displayName": "Sofie Hellmark",
      "photoUrl": "https://lh3.googleusercontent.com/a-/AAuE7mDSmqgK8ons0bmz1lhPSlRbN3izO6q744d3lX7_7g=s64",
      "userId": "13764118350972266310"
     },
     "user_tz": -60
    },
    "id": "BLmGhW0dxgBR",
    "outputId": "9892f534-0487-4e4a-c3a2-16a02950a8da"
   },
   "outputs": [
    {
     "data": {
      "text/plain": [
       "<Figure size 432x288 with 0 Axes>"
      ]
     },
     "metadata": {},
     "output_type": "display_data"
    },
    {
     "data": {
      "image/png": "[encoded data removed]",
      "text/plain": [
       "<Figure size 288x288 with 1 Axes>"
      ]
     },
     "metadata": {
      "needs_background": "light"
     },
     "output_type": "display_data"
    }
   ],
   "source": [
    "%matplotlib inline\n",
    "from sklearn.datasets import load_digits\n",
    "import matplotlib.pyplot as plt \n",
    "import numpy as np\n",
    "\n",
    "digits =  load_digits()\n",
    "#print(digits_1.data.shape)\n",
    "plt.gray() \n",
    "plt.matshow(digits.images[0])\n",
    "plt.show() \n",
    "\n",
    "split = int(len(digits.data)*0.7)\n",
    "\n",
    "data_1_train = digits.data[:split]\n",
    "data_1_test = digits.data[split+1:]\n",
    "labels_1_train = digits.target[:split]\n",
    "labels_1_test = digits.target[split + 1:]"
   ]
  },
  {
   "cell_type": "markdown",
   "metadata": {},
   "source": [
    "### SciKitLearn digits summarised: \n",
    "reduce the data set to only contain three values for the attributes, e.g., 0 for 'dark', 1 for 'grey' and 2 for 'light', with dark, grey and light corresponding to the values suggested in lab 2 (decision trees). Split again into 70% training and 30% test data.\n",
    "Run all four classifiers on this set and compare the results. Why are they so different from those for the original data in particular for the NBC? Why do they decrease in accuracy for the GNB?"
   ]
  },
  {
   "cell_type": "code",
   "execution_count": 3,
   "metadata": {},
   "outputs": [
    {
     "name": "stdout",
     "output_type": "stream",
     "text": [
      "(1257, 64)\n",
      "(8, 8)\n"
     ]
    },
    {
     "data": {
      "image/png": "[encoded data removed]",
      "text/plain": [
       "<Figure size 432x288 with 1 Axes>"
      ]
     },
     "metadata": {
      "needs_background": "light"
     },
     "output_type": "display_data"
    }
   ],
   "source": [
    "#SciKitLearn digits, white, gray, black\n",
    "\n",
    "data_2_train = []\n",
    "data_2_test = []\n",
    "for im in data_1_train:\n",
    "    new_im = []\n",
    "    for pix in im:\n",
    "        if pix < 5:\n",
    "            new_im.append(0)\n",
    "        elif pix < 10:\n",
    "            new_im.append(1)\n",
    "        else:\n",
    "            new_im.append(2)\n",
    "    data_2_train.append(new_im)\n",
    "    \n",
    "for im in data_1_test:\n",
    "    new_im = []\n",
    "    for pix in im:\n",
    "        if pix < 5:\n",
    "            new_im.append(0)\n",
    "        elif pix < 10:\n",
    "            new_im.append(1)\n",
    "        else:\n",
    "            new_im.append(2)\n",
    "    data_2_test.append(new_im)\n",
    "\n",
    "print(np.shape(data_2_train))\n",
    "im = np.reshape(data_2_train[0],(8,8))\n",
    "print(np.shape(im))\n",
    "\n",
    "plt.gray() \n",
    "plt.imshow(im) \n",
    "plt.show() "
   ]
  },
  {
   "cell_type": "markdown",
   "metadata": {},
   "source": [
    "### MNIST data"
   ]
  },
  {
   "cell_type": "code",
   "execution_count": 4,
   "metadata": {},
   "outputs": [
    {
     "ename": "ValueError",
     "evalue": "Found input variables with inconsistent numbers of samples: [0, 5000]",
     "output_type": "error",
     "traceback": [
      "\u001b[0;31m---------------------------------------------------------------------------\u001b[0m",
      "\u001b[0;31mValueError\u001b[0m                                Traceback (most recent call last)",
      "\u001b[0;32m<ipython-input-4-bebbaa65f966>\u001b[0m in \u001b[0;36m<module>\u001b[0;34m\u001b[0m\n\u001b[1;32m      3\u001b[0m \u001b[0mmnist\u001b[0m \u001b[0;34m=\u001b[0m \u001b[0mMNIST\u001b[0m\u001b[0;34m.\u001b[0m\u001b[0mMNISTData\u001b[0m\u001b[0;34m(\u001b[0m\u001b[0;34m'MNIST_Light/*/*.png'\u001b[0m\u001b[0;34m)\u001b[0m\u001b[0;34m\u001b[0m\u001b[0;34m\u001b[0m\u001b[0m\n\u001b[1;32m      4\u001b[0m \u001b[0;34m\u001b[0m\u001b[0m\n\u001b[0;32m----> 5\u001b[0;31m \u001b[0mdata_mnist_train\u001b[0m\u001b[0;34m,\u001b[0m \u001b[0mdata_mnist_test\u001b[0m\u001b[0;34m,\u001b[0m \u001b[0mlabels_mnist_train\u001b[0m\u001b[0;34m,\u001b[0m \u001b[0mlabels_mnist_test\u001b[0m \u001b[0;34m=\u001b[0m \u001b[0mmnist\u001b[0m\u001b[0;34m.\u001b[0m\u001b[0mget_data\u001b[0m\u001b[0;34m(\u001b[0m\u001b[0;34m)\u001b[0m\u001b[0;34m\u001b[0m\u001b[0;34m\u001b[0m\u001b[0m\n\u001b[0m\u001b[1;32m      6\u001b[0m \u001b[0;34m\u001b[0m\u001b[0m\n\u001b[1;32m      7\u001b[0m \u001b[0mmnist\u001b[0m\u001b[0;34m.\u001b[0m\u001b[0mvisualize_random\u001b[0m\u001b[0;34m(\u001b[0m\u001b[0;34m)\u001b[0m\u001b[0;34m\u001b[0m\u001b[0;34m\u001b[0m\u001b[0m\n",
      "\u001b[0;32m~/Documents/kurser/applied_ML/EDAN95/lab5/Handout_NaiveBayes/MNIST.py\u001b[0m in \u001b[0;36mget_data\u001b[0;34m(self)\u001b[0m\n\u001b[1;32m     28\u001b[0m \u001b[0;34m\u001b[0m\u001b[0m\n\u001b[1;32m     29\u001b[0m         self.train_features, self.test_features, self.train_labels, self.test_labels = train_test_split(self.x, self.y, test_size=0.3,\n\u001b[0;32m---> 30\u001b[0;31m                                                                                     random_state=42)\n\u001b[0m\u001b[1;32m     31\u001b[0m         \u001b[0mself\u001b[0m\u001b[0;34m.\u001b[0m\u001b[0mtrain_normalised\u001b[0m \u001b[0;34m=\u001b[0m \u001b[0mself\u001b[0m\u001b[0;34m.\u001b[0m\u001b[0mtrain_features\u001b[0m\u001b[0;34m.\u001b[0m\u001b[0mreshape\u001b[0m\u001b[0;34m(\u001b[0m\u001b[0;36m3500\u001b[0m\u001b[0;34m,\u001b[0m \u001b[0;36m400\u001b[0m\u001b[0;34m)\u001b[0m \u001b[0;34m/\u001b[0m \u001b[0;36m255.0\u001b[0m\u001b[0;34m\u001b[0m\u001b[0;34m\u001b[0m\u001b[0m\n\u001b[1;32m     32\u001b[0m         \u001b[0mself\u001b[0m\u001b[0;34m.\u001b[0m\u001b[0mtest_normalised\u001b[0m \u001b[0;34m=\u001b[0m \u001b[0mself\u001b[0m\u001b[0;34m.\u001b[0m\u001b[0mtest_features\u001b[0m\u001b[0;34m.\u001b[0m\u001b[0mreshape\u001b[0m\u001b[0;34m(\u001b[0m\u001b[0;36m1500\u001b[0m\u001b[0;34m,\u001b[0m \u001b[0;36m400\u001b[0m\u001b[0;34m)\u001b[0m \u001b[0;34m/\u001b[0m \u001b[0;36m255.0\u001b[0m\u001b[0;34m\u001b[0m\u001b[0;34m\u001b[0m\u001b[0m\n",
      "\u001b[0;32m/anaconda3/lib/python3.6/site-packages/sklearn/model_selection/_split.py\u001b[0m in \u001b[0;36mtrain_test_split\u001b[0;34m(*arrays, **options)\u001b[0m\n\u001b[1;32m   2094\u001b[0m         \u001b[0;32mraise\u001b[0m \u001b[0mTypeError\u001b[0m\u001b[0;34m(\u001b[0m\u001b[0;34m\"Invalid parameters passed: %s\"\u001b[0m \u001b[0;34m%\u001b[0m \u001b[0mstr\u001b[0m\u001b[0;34m(\u001b[0m\u001b[0moptions\u001b[0m\u001b[0;34m)\u001b[0m\u001b[0;34m)\u001b[0m\u001b[0;34m\u001b[0m\u001b[0;34m\u001b[0m\u001b[0m\n\u001b[1;32m   2095\u001b[0m \u001b[0;34m\u001b[0m\u001b[0m\n\u001b[0;32m-> 2096\u001b[0;31m     \u001b[0marrays\u001b[0m \u001b[0;34m=\u001b[0m \u001b[0mindexable\u001b[0m\u001b[0;34m(\u001b[0m\u001b[0;34m*\u001b[0m\u001b[0marrays\u001b[0m\u001b[0;34m)\u001b[0m\u001b[0;34m\u001b[0m\u001b[0;34m\u001b[0m\u001b[0m\n\u001b[0m\u001b[1;32m   2097\u001b[0m \u001b[0;34m\u001b[0m\u001b[0m\n\u001b[1;32m   2098\u001b[0m     \u001b[0mn_samples\u001b[0m \u001b[0;34m=\u001b[0m \u001b[0m_num_samples\u001b[0m\u001b[0;34m(\u001b[0m\u001b[0marrays\u001b[0m\u001b[0;34m[\u001b[0m\u001b[0;36m0\u001b[0m\u001b[0;34m]\u001b[0m\u001b[0;34m)\u001b[0m\u001b[0;34m\u001b[0m\u001b[0;34m\u001b[0m\u001b[0m\n",
      "\u001b[0;32m/anaconda3/lib/python3.6/site-packages/sklearn/utils/validation.py\u001b[0m in \u001b[0;36mindexable\u001b[0;34m(*iterables)\u001b[0m\n\u001b[1;32m    228\u001b[0m         \u001b[0;32melse\u001b[0m\u001b[0;34m:\u001b[0m\u001b[0;34m\u001b[0m\u001b[0;34m\u001b[0m\u001b[0m\n\u001b[1;32m    229\u001b[0m             \u001b[0mresult\u001b[0m\u001b[0;34m.\u001b[0m\u001b[0mappend\u001b[0m\u001b[0;34m(\u001b[0m\u001b[0mnp\u001b[0m\u001b[0;34m.\u001b[0m\u001b[0marray\u001b[0m\u001b[0;34m(\u001b[0m\u001b[0mX\u001b[0m\u001b[0;34m)\u001b[0m\u001b[0;34m)\u001b[0m\u001b[0;34m\u001b[0m\u001b[0;34m\u001b[0m\u001b[0m\n\u001b[0;32m--> 230\u001b[0;31m     \u001b[0mcheck_consistent_length\u001b[0m\u001b[0;34m(\u001b[0m\u001b[0;34m*\u001b[0m\u001b[0mresult\u001b[0m\u001b[0;34m)\u001b[0m\u001b[0;34m\u001b[0m\u001b[0;34m\u001b[0m\u001b[0m\n\u001b[0m\u001b[1;32m    231\u001b[0m     \u001b[0;32mreturn\u001b[0m \u001b[0mresult\u001b[0m\u001b[0;34m\u001b[0m\u001b[0;34m\u001b[0m\u001b[0m\n\u001b[1;32m    232\u001b[0m \u001b[0;34m\u001b[0m\u001b[0m\n",
      "\u001b[0;32m/anaconda3/lib/python3.6/site-packages/sklearn/utils/validation.py\u001b[0m in \u001b[0;36mcheck_consistent_length\u001b[0;34m(*arrays)\u001b[0m\n\u001b[1;32m    203\u001b[0m     \u001b[0;32mif\u001b[0m \u001b[0mlen\u001b[0m\u001b[0;34m(\u001b[0m\u001b[0muniques\u001b[0m\u001b[0;34m)\u001b[0m \u001b[0;34m>\u001b[0m \u001b[0;36m1\u001b[0m\u001b[0;34m:\u001b[0m\u001b[0;34m\u001b[0m\u001b[0;34m\u001b[0m\u001b[0m\n\u001b[1;32m    204\u001b[0m         raise ValueError(\"Found input variables with inconsistent numbers of\"\n\u001b[0;32m--> 205\u001b[0;31m                          \" samples: %r\" % [int(l) for l in lengths])\n\u001b[0m\u001b[1;32m    206\u001b[0m \u001b[0;34m\u001b[0m\u001b[0m\n\u001b[1;32m    207\u001b[0m \u001b[0;34m\u001b[0m\u001b[0m\n",
      "\u001b[0;31mValueError\u001b[0m: Found input variables with inconsistent numbers of samples: [0, 5000]"
     ]
    }
   ],
   "source": [
    "from Handout_NaiveBayes import MNIST\n",
    "\n",
    "mnist = MNIST.MNISTData('MNIST_Light/*/*.png')\n",
    "\n",
    "data_mnist_train, data_mnist_test, labels_mnist_train, labels_mnist_test = mnist.get_data()\n",
    "\n",
    "mnist.visualize_random()"
   ]
  },
  {
   "cell_type": "markdown",
   "metadata": {
    "colab_type": "text",
    "id": "E_SwphXkmZGB"
   },
   "source": [
    "1.1 \n",
    "Make use of the provided Gaussian NB Classifier (sklearn.naive_bayes GaussianNB) for all data sets as a comparison. It is already implemented in the handout for the MNIST_Light set (see below)."
   ]
  },
  {
   "cell_type": "code",
   "execution_count": 7,
   "metadata": {},
   "outputs": [],
   "source": [
    "train_features, test_features, train_labels, test_labels = data_1_train, data_1_test, labels_1_train, labels_1_test \n",
    "#train_features, test_features, train_labels, test_labels  = data_2_train, data_2_test, labels_2_train, labels_2_test\n",
    "#train_features, test_features, train_labels, test_labels  = data_mnist_train, data_mnist_test, labels_mnist_train, labels_mnist_test "
   ]
  },
  {
   "cell_type": "code",
   "execution_count": 8,
   "metadata": {
    "colab": {
     "base_uri": "https://localhost:8080/",
     "height": 486
    },
    "colab_type": "code",
    "executionInfo": {
     "elapsed": 5010,
     "status": "error",
     "timestamp": 1575291118588,
     "user": {
      "displayName": "Sofie Hellmark",
      "photoUrl": "https://lh3.googleusercontent.com/a-/AAuE7mDSmqgK8ons0bmz1lhPSlRbN3izO6q744d3lX7_7g=s64",
      "userId": "13764118350972266310"
     },
     "user_tz": -60
    },
    "id": "JxjwSNwUmb1G",
    "outputId": "a4b41188-d81e-4caa-a08c-91b0cff4b59a"
   },
   "outputs": [
    {
     "name": "stdout",
     "output_type": "stream",
     "text": [
      "Classification report SKLearn GNB:\n",
      "              precision    recall  f1-score   support\n",
      "\n",
      "           0       0.96      0.96      0.96        53\n",
      "           1       0.65      0.79      0.71        53\n",
      "           2       0.98      0.81      0.89        53\n",
      "           3       0.92      0.64      0.76        53\n",
      "           4       1.00      0.86      0.92        56\n",
      "           5       0.83      0.93      0.87        56\n",
      "           6       0.96      0.98      0.97        54\n",
      "           7       0.73      0.83      0.78        54\n",
      "           8       0.59      0.71      0.64        52\n",
      "           9       0.82      0.73      0.77        55\n",
      "\n",
      "    accuracy                           0.83       539\n",
      "   macro avg       0.84      0.82      0.83       539\n",
      "weighted avg       0.84      0.83      0.83       539\n",
      "\n",
      "\n",
      "Confusion matrix SKLearn GNB:\n",
      "[[51  0  0  0  0  0  0  0  2  0]\n",
      " [ 0 42  1  0  0  0  0  0  3  7]\n",
      " [ 0  5 43  1  0  0  1  0  1  2]\n",
      " [ 0  3  0 34  0  3  0  2 11  0]\n",
      " [ 1  0  0  0 48  0  0  6  1  0]\n",
      " [ 0  2  0  0  0 52  1  1  0  0]\n",
      " [ 0  1  0  0  0  0 53  0  0  0]\n",
      " [ 0  0  0  0  0  2  0 45  7  0]\n",
      " [ 0 11  0  1  0  1  0  2 37  0]\n",
      " [ 1  1  0  1  0  5  0  6  1 40]]\n"
     ]
    }
   ],
   "source": [
    "from sklearn import metrics\n",
    "from sklearn.naive_bayes import GaussianNB\n",
    "\n",
    "\n",
    "gnb = GaussianNB()\n",
    "gnb.fit(train_features, train_labels)\n",
    "y_pred = gnb.predict(test_features)\n",
    "\n",
    "print(\"Classification report SKLearn GNB:\\n%s\\n\"\n",
    "    % (metrics.classification_report(test_labels, y_pred)))\n",
    "print(\"Confusion matrix SKLearn GNB:\\n%s\" % metrics.confusion_matrix(test_labels, y_pred))\n",
    "\n",
    "#mnist.visualize_wrong_class(y_pred, 8)"
   ]
  },
  {
   "cell_type": "markdown",
   "metadata": {},
   "source": [
    "### Plot misclassified digits"
   ]
  },
  {
   "cell_type": "code",
   "execution_count": 9,
   "metadata": {},
   "outputs": [
    {
     "data": {
      "image/png": "[encoded data removed]",
      "text/plain": [
       "<Figure size 1440x288 with 5 Axes>"
      ]
     },
     "metadata": {
      "needs_background": "light"
     },
     "output_type": "display_data"
    }
   ],
   "source": [
    "\n",
    "index = 0\n",
    "misclassifiedIndexes = []\n",
    "for label, predict in zip(test_labels, y_pred):\n",
    "    if label != predict: \n",
    "        misclassifiedIndexes.append(index)\n",
    "    index +=1\n",
    "        \n",
    "plt.figure(figsize=(20,4))\n",
    "for plotIndex, badIndex in enumerate(misclassifiedIndexes[0:5]):\n",
    "    plt.subplot(1, 5, plotIndex + 1)\n",
    "    plt.imshow(np.reshape(test_features[badIndex], (8,8)), cmap=plt.cm.gray)\n",
    "    plt.title('Predicted: {}, Actual: {}'.format(y_pred[badIndex], test_labels[badIndex]), fontsize = 15)"
   ]
  },
  {
   "cell_type": "markdown",
   "metadata": {
    "colab_type": "text",
    "id": "C1OVNehCsgvh"
   },
   "source": [
    "## 1.2 Implement your own Nearest Centroid Classifier (NCC):\n",
    "The NCC fit method should simply compute the mean values over the attribute values of the examples for each class. Prediction is then done by finding the argmin over the distances from the class centroids for each sample. This classifier should be run on all three variants of data sets, see below"
   ]
  },
  {
   "cell_type": "code",
   "execution_count": 60,
   "metadata": {
    "colab": {},
    "colab_type": "code",
    "id": "fU-VuGnLnzgY"
   },
   "outputs": [
    {
     "name": "stdout",
     "output_type": "stream",
     "text": [
      "Classification report SKLearn GNB:\n",
      "              precision    recall  f1-score   support\n",
      "\n",
      "           0       0.00      0.00      0.00        53\n",
      "           1       0.00      0.00      0.00        53\n",
      "           2       0.00      0.00      0.00        53\n",
      "           3       0.00      0.00      0.00        53\n",
      "           4       0.00      0.00      0.00        56\n",
      "           5       0.00      0.00      0.00        56\n",
      "           6       0.00      0.00      0.00        54\n",
      "           7       0.85      0.83      0.84        54\n",
      "           8       0.00      0.00      0.00        52\n",
      "           9       0.11      1.00      0.20        55\n",
      "\n",
      "    accuracy                           0.19       539\n",
      "   macro avg       0.10      0.18      0.10       539\n",
      "weighted avg       0.10      0.19      0.11       539\n",
      "\n",
      "\n",
      "Confusion matrix SKLearn GNB:\n",
      "[[ 0  0  0  0  0  0  0  0  0 53]\n",
      " [ 0  0  0  0  0  0  0  3  0 50]\n",
      " [ 0  0  0  0  0  0  0  0  0 53]\n",
      " [ 0  0  0  0  0  0  0  3  0 50]\n",
      " [ 0  0  0  0  0  0  0  1  0 55]\n",
      " [ 0  0  0  0  0  0  0  0  0 56]\n",
      " [ 0  0  0  0  0  0  0  0  0 54]\n",
      " [ 0  0  0  0  0  0  0 45  0  9]\n",
      " [ 0  0  0  0  0  0  0  1  0 51]\n",
      " [ 0  0  0  0  0  0  0  0  0 55]]\n"
     ]
    },
    {
     "data": {
      "image/png": "[encoded data removed]",
      "text/plain": [
       "<Figure size 1440x288 with 10 Axes>"
      ]
     },
     "metadata": {
      "needs_background": "light"
     },
     "output_type": "display_data"
    }
   ],
   "source": [
    "# Dict with class as key, value list of one image (sum of images) and counter\n",
    "# CLASSIFIER\n",
    "\n",
    "from numpy import linalg as la\n",
    "\n",
    "NCC = {}\n",
    "\n",
    "# loop through all training data \n",
    "for idx in range(len(train_features)):\n",
    "    # Add images to the dict and a counter\n",
    "    X = train_features[idx]\n",
    "    y = train_labels[idx]\n",
    "    if y in NCC:\n",
    "        NCC[y][0] += X\n",
    "        NCC[y][1] += 1\n",
    "    else:\n",
    "        NCC[y] = [X]\n",
    "        NCC[y].append(1)\n",
    "    \n",
    "    \n",
    "# Divide each pixel in image with the counter\n",
    "classifier = {}\n",
    "for y in NCC.keys():\n",
    "    classifier[y] = NCC[y][0] / NCC[y][1]\n",
    "\n",
    "\n",
    "# Plot the classifiers (averages for each class)\n",
    "plt.figure(figsize=(20,4))\n",
    "for plotIndex, badIndex in enumerate(classifier.keys()):\n",
    "    plt.subplot(2, 5, plotIndex + 1)\n",
    "    plt.imshow(np.reshape(classifier[badIndex], (8,8)), cmap=plt.cm.gray)\n",
    "    #plt.title('Predicted: {}, Actual: {}'.format(y_pred[badIndex], test_labels[badIndex]), fontsize = 15)\n",
    "    #if plotIndex == 4:\n",
    "     #   break\n",
    "    \n",
    "# PREDICTION\n",
    "# Check which class with smalles distance (smallest MSE)\n",
    "y_pred = -1 * np.ones(len(test_labels))\n",
    "for idx in range(len(test_features)):\n",
    "    # Add images to the dict and a counter\n",
    "    X = test_features[idx]\n",
    "    \n",
    "    min_dist = 15**32 + 1 # since max dist is sqrt(15^64) = 15^32\n",
    "    \n",
    "    for y in classifier.keys():\n",
    "        #if y == 7 or y == 9:\n",
    "            #continue\n",
    "        \n",
    "        d = la.norm(classifier[y] - X)\n",
    "        #if y == 0 or y == 5:\n",
    "            #print(d)\n",
    "        if d < min_dist:\n",
    "            min_dist = d\n",
    "            y_pred[idx] = y\n",
    "            \n",
    "            \n",
    "print(\"Classification report SKLearn GNB:\\n%s\\n\"\n",
    "    % (metrics.classification_report(test_labels, y_pred)))\n",
    "print(\"Confusion matrix SKLearn GNB:\\n%s\" % metrics.confusion_matrix(test_labels, y_pred))\n",
    "\n",
    "\n",
    "    "
   ]
  },
  {
   "cell_type": "markdown",
   "metadata": {},
   "source": [
    "### 1.3 Implement a Naive Bayesian Classifier (NBC) \n",
    "based on discrete (statistical) values (i.e., counts of examples falling into the different classes and attribute value groups) both for the priors and for the conditional probabilities. Run this on the two SciKitLearn digits data sets. It should also work with the (non-normalised) MNIST_Light set, but it will probably take a (very long) while and not give anything interesting really.."
   ]
  },
  {
   "cell_type": "code",
   "execution_count": null,
   "metadata": {},
   "outputs": [],
   "source": [
    "# CLASSIFIER\n",
    "# P(C)\n",
    "# Calculate P(C) for each class [0,...,9]\n",
    "\n",
    "#P(x_i|C)\n",
    "# For each pixel and class, how probable is the pixel values [0,...,15]\n",
    "    # Use this to later calculate P(x_i|C)=number of times pixel, i, has color value x_i AND belonged to class C\n",
    "    # divided with the number of data in our set that belong to class C. \n",
    "    # Dict{class: {pos: [counter for each color value, length = 16]}}\n",
    "    \n",
    "# divide each value in list with sum of list \n",
    "\n",
    "\n",
    "# PREDICTION\n",
    "\n",
    "# probability_list with the probabilities for each class\n",
    "# Probability = P(C|X)\n",
    "# For each class: \n",
    "    # Probability[i] = P(C)^n\n",
    "    # For each pixel in image: \n",
    "        # Get the probability for this color value of the pixel given the class P(x_i|C) from dict\n",
    "        # multiply w probability[i] to get total probability\n",
    "\n",
    "# Choose class with largest probability, we dont need to normalize"
   ]
  },
  {
   "cell_type": "markdown",
   "metadata": {},
   "source": [
    "### 1.4 Implement your own Gaussian Naive Bayesian Classifier (GNB) \n",
    "(assume priors for the classes based on counts and Gaussian distributions for the conditional probabilities) and make sure it works for all three data sets. You will most likely encounter problems due to the edge pixels having value 0.0 in practically ALL images in ALL data sets. A workaround is to add an epsilon to the variance. Why is that still working?"
   ]
  },
  {
   "cell_type": "code",
   "execution_count": null,
   "metadata": {},
   "outputs": [],
   "source": [
    "# Calculate mean and std for each class and pixel \n",
    "\n",
    "# CLASSIFIER\n",
    "# For each class \n",
    "    # for each pixel\n",
    "        # save list of all color values\n",
    "    # calculate mean and std for each pixel \n",
    "    \n",
    "\n",
    "#PREDICTION\n",
    "\n",
    "# For each class: \n",
    "    # Probability[i] = P(C)^n\n",
    "    # For each pixel in image: \n",
    "        # P(x|C)=1/2pi*exp(mean-x/std^2)\n",
    "        # Calculate the probability x in this class given distribution using mean and std\n",
    "        # multiply w probability[i] to get total probability"
   ]
  }
 ],
 "metadata": {
  "accelerator": "GPU",
  "colab": {
   "name": "lab5.ipynb",
   "provenance": []
  },
  "kernelspec": {
   "display_name": "Python 3",
   "language": "python",
   "name": "python3"
  },
  "language_info": {
   "codemirror_mode": {
    "name": "ipython",
    "version": 3
   },
   "file_extension": ".py",
   "mimetype": "text/x-python",
   "name": "python",
   "nbconvert_exporter": "python",
   "pygments_lexer": "ipython3",
   "version": "3.6.9"
  }
 },
 "nbformat": 4,
 "nbformat_minor": 1
}
